{
 "cells": [
  {
   "cell_type": "code",
   "execution_count": 1,
   "id": "debdf91f",
   "metadata": {},
   "outputs": [
    {
     "name": "stderr",
     "output_type": "stream",
     "text": [
      "2024-06-11 23:00:45.912830: I tensorflow/core/platform/cpu_feature_guard.cc:210] This TensorFlow binary is optimized to use available CPU instructions in performance-critical operations.\n",
      "To enable the following instructions: AVX2 FMA, in other operations, rebuild TensorFlow with the appropriate compiler flags.\n"
     ]
    }
   ],
   "source": [
    "import py7zr\n",
    "import os\n",
    "import cv2\n",
    "import numpy as np\n",
    "import pandas as pd\n",
    "import tensorflow as tf\n",
    "\n",
    "from tensorflow.keras.utils import to_categorical\n",
    "from tensorflow.keras.models import Sequential\n",
    "from tensorflow.keras.layers import Conv2D\n",
    "from tensorflow.keras.layers import MaxPool2D\n",
    "from tensorflow.keras.layers import Flatten\n",
    "from tensorflow.keras.layers import Dense\n",
    "from sklearn.model_selection import train_test_split\n",
    "from sklearn.preprocessing import LabelEncoder\n",
    "\n",
    "from sklearn import svm\n",
    "from sklearn.metrics import accuracy_score, classification_report, confusion_matrix\n",
    "\n",
    "from sklearn.neighbors import KNeighborsClassifier\n"
   ]
  },
  {
   "cell_type": "markdown",
   "id": "019291ac",
   "metadata": {},
   "source": [
    "# 1. Extract Images"
   ]
  },
  {
   "cell_type": "code",
   "execution_count": 2,
   "id": "de5104f5",
   "metadata": {
    "scrolled": true
   },
   "outputs": [],
   "source": [
    "# !pip install py7zr"
   ]
  },
  {
   "cell_type": "code",
   "execution_count": 3,
   "id": "f507d72b",
   "metadata": {},
   "outputs": [
    {
     "name": "stdout",
     "output_type": "stream",
     "text": [
      "Files have been extracted to english\n"
     ]
    }
   ],
   "source": [
    "english_7z = 'english.7z'\n",
    "extract_path = 'english'\n",
    "# os.makedirs(extract_path, exist_ok=True)\n",
    "# with py7zr.SevenZipFile(english_7z, mode='r') as z:\n",
    "#     z.extractall(path=extract_path)\n",
    "print(f\"Files have been extracted to {extract_path}\")"
   ]
  },
  {
   "cell_type": "markdown",
   "id": "f9d42404",
   "metadata": {},
   "source": [
    "# 2. Data Preprocessing"
   ]
  },
  {
   "cell_type": "code",
   "execution_count": 4,
   "id": "9ca4b8ea",
   "metadata": {},
   "outputs": [],
   "source": [
    "df = pd.read_csv('english.csv')\n"
   ]
  },
  {
   "cell_type": "code",
   "execution_count": 5,
   "id": "4a2fd6d4",
   "metadata": {},
   "outputs": [],
   "source": [
    "def load_and_preprocess_image(image_path, target_size=(64, 64)):  # Updated to 64x64\n",
    "    image = cv2.imread(image_path, cv2.IMREAD_GRAYSCALE)\n",
    "    if image is None:\n",
    "        print(f\"Failed to load image at path: {image_path}\")\n",
    "        return None\n",
    "    image = cv2.resize(image, target_size)\n",
    "    image = image.astype('float32') / 255.0\n",
    "    return image"
   ]
  },
  {
   "cell_type": "code",
   "execution_count": 6,
   "id": "94f329a8",
   "metadata": {},
   "outputs": [],
   "source": [
    "images = []\n",
    "labels = []\n",
    "for index, row in df.iterrows():\n",
    "    image_path = os.path.join(extract_path, row['image'])  # Corrected path\n",
    "    if not os.path.exists(image_path):\n",
    "        print(f\"File does not exist: {image_path}\")\n",
    "        continue\n",
    "    image = load_and_preprocess_image(image_path)\n",
    "    if image is not None:\n",
    "        images.append(image)\n",
    "        labels.append(row['label'])\n",
    "\n",
    "# Convert lists to numpy arrays\n",
    "images = np.array(images)\n",
    "labels = np.array(labels)\n",
    "\n",
    "# Encode labels\n",
    "label_encoder = LabelEncoder()\n",
    "labels_encoded = label_encoder.fit_transform(labels)\n",
    "\n",
    "# Create DataFrame\n",
    "df = pd.DataFrame({'image': [img.flatten() for img in images], 'label': labels_encoded})\n"
   ]
  },
  {
   "cell_type": "code",
   "execution_count": 7,
   "id": "41f02320-3af0-470d-b7fd-cb5621b2677f",
   "metadata": {},
   "outputs": [
    {
     "data": {
      "text/html": [
       "<div>\n",
       "<style scoped>\n",
       "    .dataframe tbody tr th:only-of-type {\n",
       "        vertical-align: middle;\n",
       "    }\n",
       "\n",
       "    .dataframe tbody tr th {\n",
       "        vertical-align: top;\n",
       "    }\n",
       "\n",
       "    .dataframe thead th {\n",
       "        text-align: right;\n",
       "    }\n",
       "</style>\n",
       "<table border=\"1\" class=\"dataframe\">\n",
       "  <thead>\n",
       "    <tr style=\"text-align: right;\">\n",
       "      <th></th>\n",
       "      <th>image</th>\n",
       "      <th>label</th>\n",
       "    </tr>\n",
       "  </thead>\n",
       "  <tbody>\n",
       "    <tr>\n",
       "      <th>0</th>\n",
       "      <td>[1.0, 1.0, 1.0, 1.0, 1.0, 1.0, 1.0, 1.0, 1.0, ...</td>\n",
       "      <td>0</td>\n",
       "    </tr>\n",
       "    <tr>\n",
       "      <th>1</th>\n",
       "      <td>[1.0, 1.0, 1.0, 1.0, 1.0, 1.0, 1.0, 1.0, 1.0, ...</td>\n",
       "      <td>0</td>\n",
       "    </tr>\n",
       "    <tr>\n",
       "      <th>2</th>\n",
       "      <td>[1.0, 1.0, 1.0, 1.0, 1.0, 1.0, 1.0, 1.0, 1.0, ...</td>\n",
       "      <td>0</td>\n",
       "    </tr>\n",
       "    <tr>\n",
       "      <th>3</th>\n",
       "      <td>[1.0, 1.0, 1.0, 1.0, 1.0, 1.0, 1.0, 1.0, 1.0, ...</td>\n",
       "      <td>0</td>\n",
       "    </tr>\n",
       "    <tr>\n",
       "      <th>4</th>\n",
       "      <td>[1.0, 1.0, 1.0, 1.0, 1.0, 1.0, 1.0, 1.0, 1.0, ...</td>\n",
       "      <td>0</td>\n",
       "    </tr>\n",
       "    <tr>\n",
       "      <th>...</th>\n",
       "      <td>...</td>\n",
       "      <td>...</td>\n",
       "    </tr>\n",
       "    <tr>\n",
       "      <th>3405</th>\n",
       "      <td>[1.0, 1.0, 1.0, 1.0, 1.0, 1.0, 1.0, 1.0, 1.0, ...</td>\n",
       "      <td>61</td>\n",
       "    </tr>\n",
       "    <tr>\n",
       "      <th>3406</th>\n",
       "      <td>[1.0, 1.0, 1.0, 1.0, 1.0, 1.0, 1.0, 1.0, 1.0, ...</td>\n",
       "      <td>61</td>\n",
       "    </tr>\n",
       "    <tr>\n",
       "      <th>3407</th>\n",
       "      <td>[1.0, 1.0, 1.0, 1.0, 1.0, 1.0, 1.0, 1.0, 1.0, ...</td>\n",
       "      <td>61</td>\n",
       "    </tr>\n",
       "    <tr>\n",
       "      <th>3408</th>\n",
       "      <td>[1.0, 1.0, 1.0, 1.0, 1.0, 1.0, 1.0, 1.0, 1.0, ...</td>\n",
       "      <td>61</td>\n",
       "    </tr>\n",
       "    <tr>\n",
       "      <th>3409</th>\n",
       "      <td>[1.0, 1.0, 1.0, 1.0, 1.0, 1.0, 1.0, 1.0, 1.0, ...</td>\n",
       "      <td>61</td>\n",
       "    </tr>\n",
       "  </tbody>\n",
       "</table>\n",
       "<p>3410 rows × 2 columns</p>\n",
       "</div>"
      ],
      "text/plain": [
       "                                                  image  label\n",
       "0     [1.0, 1.0, 1.0, 1.0, 1.0, 1.0, 1.0, 1.0, 1.0, ...      0\n",
       "1     [1.0, 1.0, 1.0, 1.0, 1.0, 1.0, 1.0, 1.0, 1.0, ...      0\n",
       "2     [1.0, 1.0, 1.0, 1.0, 1.0, 1.0, 1.0, 1.0, 1.0, ...      0\n",
       "3     [1.0, 1.0, 1.0, 1.0, 1.0, 1.0, 1.0, 1.0, 1.0, ...      0\n",
       "4     [1.0, 1.0, 1.0, 1.0, 1.0, 1.0, 1.0, 1.0, 1.0, ...      0\n",
       "...                                                 ...    ...\n",
       "3405  [1.0, 1.0, 1.0, 1.0, 1.0, 1.0, 1.0, 1.0, 1.0, ...     61\n",
       "3406  [1.0, 1.0, 1.0, 1.0, 1.0, 1.0, 1.0, 1.0, 1.0, ...     61\n",
       "3407  [1.0, 1.0, 1.0, 1.0, 1.0, 1.0, 1.0, 1.0, 1.0, ...     61\n",
       "3408  [1.0, 1.0, 1.0, 1.0, 1.0, 1.0, 1.0, 1.0, 1.0, ...     61\n",
       "3409  [1.0, 1.0, 1.0, 1.0, 1.0, 1.0, 1.0, 1.0, 1.0, ...     61\n",
       "\n",
       "[3410 rows x 2 columns]"
      ]
     },
     "execution_count": 7,
     "metadata": {},
     "output_type": "execute_result"
    }
   ],
   "source": [
    "df"
   ]
  },
  {
   "cell_type": "code",
   "execution_count": 8,
   "id": "5d894943-2040-495f-93e7-6788c210ae32",
   "metadata": {},
   "outputs": [
    {
     "name": "stdout",
     "output_type": "stream",
     "text": [
      "Training set shape (CNN): (2728, 64, 64, 1)\n",
      "Test set shape (CNN): (682, 64, 64, 1)\n",
      "Training set shape (SVM/k-NN): (2728, 4096)\n",
      "Test set shape (SVM/k-NN): (682, 4096)\n"
     ]
    }
   ],
   "source": [
    "train_df, test_df = train_test_split(df, test_size=0.2, random_state=2)\n",
    "\n",
    "# Extract training and testing data\n",
    "X_train_flat = np.array([img for img in train_df['image']])\n",
    "X_test_flat = np.array([img for img in test_df['image']])\n",
    "y_train_flat = train_df['label'].values\n",
    "y_test_flat = test_df['label'].values\n",
    "\n",
    "# Reshape images for CNN\n",
    "X_train_cnn = X_train_flat.reshape(-1, 64, 64, 1)\n",
    "X_test_cnn = X_test_flat.reshape(-1, 64, 64, 1)\n",
    "\n",
    "# Convert labels to categorical for CNN\n",
    "y_train_cnn = to_categorical(y_train_flat, num_classes=62)  # Updated to 62 classes\n",
    "y_test_cnn = to_categorical(y_test_flat, num_classes=62)\n",
    "\n",
    "print(f'Training set shape (CNN): {X_train_cnn.shape}')\n",
    "print(f'Test set shape (CNN): {X_test_cnn.shape}')\n",
    "print(f'Training set shape (SVM/k-NN): {X_train_flat.shape}')\n",
    "print(f'Test set shape (SVM/k-NN): {X_test_flat.shape}')"
   ]
  },
  {
   "cell_type": "markdown",
   "id": "e4ec0f71",
   "metadata": {},
   "source": [
    "# Training and Evaluating Models"
   ]
  },
  {
   "cell_type": "markdown",
   "id": "1a84715b",
   "metadata": {},
   "source": [
    "### Training SVM\n"
   ]
  },
  {
   "cell_type": "code",
   "execution_count": 9,
   "id": "a4259a35",
   "metadata": {
    "scrolled": true
   },
   "outputs": [
    {
     "name": "stdout",
     "output_type": "stream",
     "text": [
      "SVM Accuracy: 0.3973607038123167\n",
      "              precision    recall  f1-score   support\n",
      "\n",
      "           0       0.29      0.62      0.40         8\n",
      "           1       0.41      0.35      0.38        20\n",
      "           2       0.36      0.27      0.31        15\n",
      "           3       0.50      0.44      0.47         9\n",
      "           4       0.30      0.21      0.25        14\n",
      "           5       0.11      0.11      0.11         9\n",
      "           6       0.56      0.50      0.53        10\n",
      "           7       0.00      0.00      0.00         0\n",
      "           8       0.46      0.55      0.50        11\n",
      "           9       0.57      0.31      0.40        13\n",
      "          10       0.60      0.35      0.44        17\n",
      "          11       0.33      0.40      0.36        10\n",
      "          12       0.75      1.00      0.86         6\n",
      "          13       0.50      0.44      0.47         9\n",
      "          14       0.54      0.64      0.58        11\n",
      "          15       0.57      0.67      0.62         6\n",
      "          16       0.50      0.64      0.56        11\n",
      "          17       0.62      0.67      0.64        12\n",
      "          18       0.08      0.20      0.11         5\n",
      "          19       0.44      0.57      0.50         7\n",
      "          20       0.83      0.36      0.50        14\n",
      "          21       0.62      0.67      0.64        12\n",
      "          22       0.45      0.62      0.53         8\n",
      "          23       0.55      0.55      0.55        11\n",
      "          24       0.43      0.60      0.50        10\n",
      "          25       0.78      0.54      0.64        13\n",
      "          26       0.73      0.57      0.64        14\n",
      "          27       0.50      0.50      0.50        10\n",
      "          28       0.33      0.57      0.42         7\n",
      "          29       0.78      0.70      0.74        10\n",
      "          30       0.43      0.43      0.43        14\n",
      "          31       0.40      0.29      0.33        14\n",
      "          32       0.50      0.23      0.32        13\n",
      "          33       0.69      0.60      0.64        15\n",
      "          34       0.30      0.33      0.32         9\n",
      "          35       0.46      0.55      0.50        11\n",
      "          36       0.22      0.31      0.26        13\n",
      "          37       0.46      0.60      0.52        10\n",
      "          38       0.23      0.33      0.27         9\n",
      "          39       0.53      0.53      0.53        15\n",
      "          40       0.23      0.30      0.26        10\n",
      "          41       0.60      0.67      0.63         9\n",
      "          42       0.06      0.11      0.08         9\n",
      "          43       0.33      0.25      0.29        12\n",
      "          44       0.14      0.12      0.13         8\n",
      "          45       0.22      0.33      0.27         6\n",
      "          46       0.43      0.67      0.52         9\n",
      "          47       0.25      0.17      0.20        12\n",
      "          48       0.40      0.40      0.40        10\n",
      "          49       0.21      0.25      0.23        12\n",
      "          50       0.07      0.11      0.09         9\n",
      "          51       0.50      0.31      0.38        16\n",
      "          52       0.73      0.50      0.59        16\n",
      "          53       0.20      0.25      0.22        12\n",
      "          54       0.10      0.11      0.11         9\n",
      "          55       0.40      0.29      0.33        14\n",
      "          56       0.22      0.17      0.19        12\n",
      "          57       0.42      0.29      0.34        17\n",
      "          58       0.25      0.33      0.29         9\n",
      "          59       0.20      0.08      0.12        12\n",
      "          60       0.43      0.25      0.32        12\n",
      "          61       0.10      0.08      0.09        12\n",
      "\n",
      "    accuracy                           0.40       682\n",
      "   macro avg       0.41      0.40      0.39       682\n",
      "weighted avg       0.43      0.40      0.40       682\n",
      "\n",
      "[[5 0 0 ... 0 0 0]\n",
      " [0 7 0 ... 0 0 0]\n",
      " [0 0 4 ... 0 0 1]\n",
      " ...\n",
      " [0 0 0 ... 1 0 2]\n",
      " [0 0 0 ... 0 3 0]\n",
      " [0 0 0 ... 0 1 1]]\n"
     ]
    },
    {
     "name": "stderr",
     "output_type": "stream",
     "text": [
      "/Users/johnnyhuang/anaconda3/lib/python3.11/site-packages/sklearn/metrics/_classification.py:1509: UndefinedMetricWarning: Recall is ill-defined and being set to 0.0 in labels with no true samples. Use `zero_division` parameter to control this behavior.\n",
      "  _warn_prf(average, modifier, f\"{metric.capitalize()} is\", len(result))\n",
      "/Users/johnnyhuang/anaconda3/lib/python3.11/site-packages/sklearn/metrics/_classification.py:1509: UndefinedMetricWarning: Recall is ill-defined and being set to 0.0 in labels with no true samples. Use `zero_division` parameter to control this behavior.\n",
      "  _warn_prf(average, modifier, f\"{metric.capitalize()} is\", len(result))\n",
      "/Users/johnnyhuang/anaconda3/lib/python3.11/site-packages/sklearn/metrics/_classification.py:1509: UndefinedMetricWarning: Recall is ill-defined and being set to 0.0 in labels with no true samples. Use `zero_division` parameter to control this behavior.\n",
      "  _warn_prf(average, modifier, f\"{metric.capitalize()} is\", len(result))\n"
     ]
    }
   ],
   "source": [
    "# Train SVM model\n",
    "svm_model = svm.SVC(kernel='linear')\n",
    "svm_model.fit(X_train_flat, y_train_flat)\n",
    "\n",
    "# Evaluate SVM model\n",
    "y_pred_svm = svm_model.predict(X_test_flat)\n",
    "svm_accuracy = accuracy_score(y_test_flat, y_pred_svm)\n",
    "print(f'SVM Accuracy: {svm_accuracy}')\n",
    "print(classification_report(y_test_flat, y_pred_svm))\n",
    "print(confusion_matrix(y_test_flat, y_pred_svm))"
   ]
  },
  {
   "cell_type": "markdown",
   "id": "4f04bfe2",
   "metadata": {},
   "source": [
    "### Training KNN"
   ]
  },
  {
   "cell_type": "code",
   "execution_count": 10,
   "id": "0ccba333",
   "metadata": {
    "scrolled": true
   },
   "outputs": [
    {
     "name": "stdout",
     "output_type": "stream",
     "text": [
      "k-NN Accuracy: 0.3519061583577713\n",
      "              precision    recall  f1-score   support\n",
      "\n",
      "           0       0.10      0.62      0.17         8\n",
      "           1       0.21      0.60      0.32        20\n",
      "           2       0.60      0.60      0.60        15\n",
      "           3       0.19      0.44      0.27         9\n",
      "           4       0.45      0.36      0.40        14\n",
      "           5       0.09      0.11      0.10         9\n",
      "           6       0.33      0.50      0.40        10\n",
      "           7       0.00      0.00      0.00         0\n",
      "           8       0.86      0.55      0.67        11\n",
      "           9       0.33      0.23      0.27        13\n",
      "          10       0.64      0.41      0.50        17\n",
      "          11       0.25      0.20      0.22        10\n",
      "          12       0.31      0.67      0.42         6\n",
      "          13       0.62      0.56      0.59         9\n",
      "          14       0.36      0.36      0.36        11\n",
      "          15       0.27      0.67      0.38         6\n",
      "          16       0.50      0.18      0.27        11\n",
      "          17       0.38      0.50      0.43        12\n",
      "          18       0.00      0.00      0.00         5\n",
      "          19       0.00      0.00      0.00         7\n",
      "          20       0.32      0.43      0.36        14\n",
      "          21       0.44      0.58      0.50        12\n",
      "          22       0.80      1.00      0.89         8\n",
      "          23       0.67      0.73      0.70        11\n",
      "          24       0.29      0.20      0.24        10\n",
      "          25       0.38      0.23      0.29        13\n",
      "          26       1.00      0.07      0.13        14\n",
      "          27       0.43      0.30      0.35        10\n",
      "          28       0.50      0.43      0.46         7\n",
      "          29       0.88      0.70      0.78        10\n",
      "          30       0.33      0.21      0.26        14\n",
      "          31       0.41      0.50      0.45        14\n",
      "          32       0.67      0.31      0.42        13\n",
      "          33       0.82      0.60      0.69        15\n",
      "          34       0.27      0.33      0.30         9\n",
      "          35       0.50      0.45      0.48        11\n",
      "          36       0.27      0.31      0.29        13\n",
      "          37       0.43      0.60      0.50        10\n",
      "          38       0.26      0.56      0.36         9\n",
      "          39       0.78      0.47      0.58        15\n",
      "          40       0.31      0.40      0.35        10\n",
      "          41       0.67      0.44      0.53         9\n",
      "          42       0.10      0.11      0.11         9\n",
      "          43       0.45      0.42      0.43        12\n",
      "          44       0.20      0.25      0.22         8\n",
      "          45       0.20      0.17      0.18         6\n",
      "          46       0.29      0.22      0.25         9\n",
      "          47       0.30      0.25      0.27        12\n",
      "          48       0.71      0.50      0.59        10\n",
      "          49       0.33      0.17      0.22        12\n",
      "          50       0.17      0.11      0.13         9\n",
      "          51       0.80      0.25      0.38        16\n",
      "          52       0.75      0.19      0.30        16\n",
      "          53       0.20      0.17      0.18        12\n",
      "          54       0.40      0.22      0.29         9\n",
      "          55       1.00      0.07      0.13        14\n",
      "          56       0.00      0.00      0.00        12\n",
      "          57       0.45      0.29      0.36        17\n",
      "          58       0.50      0.22      0.31         9\n",
      "          59       0.00      0.00      0.00        12\n",
      "          60       1.00      0.25      0.40        12\n",
      "          61       0.50      0.25      0.33        12\n",
      "\n",
      "    accuracy                           0.35       682\n",
      "   macro avg       0.42      0.35      0.34       682\n",
      "weighted avg       0.46      0.35      0.36       682\n",
      "\n",
      "[[ 5  0  0 ...  0  0  0]\n",
      " [ 0 12  0 ...  0  0  0]\n",
      " [ 0  1  9 ...  0  0  1]\n",
      " ...\n",
      " [ 2  0  1 ...  0  0  0]\n",
      " [ 0  0  0 ...  0  3  0]\n",
      " [ 0  0  1 ...  1  0  3]]\n"
     ]
    },
    {
     "name": "stderr",
     "output_type": "stream",
     "text": [
      "/Users/johnnyhuang/anaconda3/lib/python3.11/site-packages/sklearn/metrics/_classification.py:1509: UndefinedMetricWarning: Recall is ill-defined and being set to 0.0 in labels with no true samples. Use `zero_division` parameter to control this behavior.\n",
      "  _warn_prf(average, modifier, f\"{metric.capitalize()} is\", len(result))\n",
      "/Users/johnnyhuang/anaconda3/lib/python3.11/site-packages/sklearn/metrics/_classification.py:1509: UndefinedMetricWarning: Recall is ill-defined and being set to 0.0 in labels with no true samples. Use `zero_division` parameter to control this behavior.\n",
      "  _warn_prf(average, modifier, f\"{metric.capitalize()} is\", len(result))\n",
      "/Users/johnnyhuang/anaconda3/lib/python3.11/site-packages/sklearn/metrics/_classification.py:1509: UndefinedMetricWarning: Recall is ill-defined and being set to 0.0 in labels with no true samples. Use `zero_division` parameter to control this behavior.\n",
      "  _warn_prf(average, modifier, f\"{metric.capitalize()} is\", len(result))\n"
     ]
    }
   ],
   "source": [
    "# Train k-NN model\n",
    "knn_model = KNeighborsClassifier(n_neighbors=3)\n",
    "knn_model.fit(X_train_flat, y_train_flat)\n",
    "\n",
    "# Evaluate k-NN model\n",
    "y_pred_knn = knn_model.predict(X_test_flat)\n",
    "knn_accuracy = accuracy_score(y_test_flat, y_pred_knn)\n",
    "print(f'k-NN Accuracy: {knn_accuracy}')\n",
    "print(classification_report(y_test_flat, y_pred_knn))\n",
    "print(confusion_matrix(y_test_flat, y_pred_knn))"
   ]
  },
  {
   "cell_type": "markdown",
   "id": "1410952f",
   "metadata": {},
   "source": [
    "### Training CNN"
   ]
  },
  {
   "cell_type": "code",
   "execution_count": 11,
   "id": "abea8e3f",
   "metadata": {
    "scrolled": true
   },
   "outputs": [
    {
     "name": "stdout",
     "output_type": "stream",
     "text": [
      "Epoch 1/10\n"
     ]
    },
    {
     "name": "stderr",
     "output_type": "stream",
     "text": [
      "/Users/johnnyhuang/anaconda3/lib/python3.11/site-packages/keras/src/layers/convolutional/base_conv.py:107: UserWarning: Do not pass an `input_shape`/`input_dim` argument to a layer. When using Sequential models, prefer using an `Input(shape)` object as the first layer in the model instead.\n",
      "  super().__init__(activity_regularizer=activity_regularizer, **kwargs)\n"
     ]
    },
    {
     "name": "stdout",
     "output_type": "stream",
     "text": [
      "\u001b[1m86/86\u001b[0m \u001b[32m━━━━━━━━━━━━━━━━━━━━\u001b[0m\u001b[37m\u001b[0m \u001b[1m7s\u001b[0m 72ms/step - accuracy: 0.0274 - loss: 4.1458 - val_accuracy: 0.1496 - val_loss: 3.5262\n",
      "Epoch 2/10\n",
      "\u001b[1m86/86\u001b[0m \u001b[32m━━━━━━━━━━━━━━━━━━━━\u001b[0m\u001b[37m\u001b[0m \u001b[1m6s\u001b[0m 71ms/step - accuracy: 0.2502 - loss: 3.0830 - val_accuracy: 0.3636 - val_loss: 2.5241\n",
      "Epoch 3/10\n",
      "\u001b[1m86/86\u001b[0m \u001b[32m━━━━━━━━━━━━━━━━━━━━\u001b[0m\u001b[37m\u001b[0m \u001b[1m6s\u001b[0m 71ms/step - accuracy: 0.5001 - loss: 1.9173 - val_accuracy: 0.4663 - val_loss: 1.9999\n",
      "Epoch 4/10\n",
      "\u001b[1m86/86\u001b[0m \u001b[32m━━━━━━━━━━━━━━━━━━━━\u001b[0m\u001b[37m\u001b[0m \u001b[1m6s\u001b[0m 71ms/step - accuracy: 0.6647 - loss: 1.2786 - val_accuracy: 0.5176 - val_loss: 1.7906\n",
      "Epoch 5/10\n",
      "\u001b[1m86/86\u001b[0m \u001b[32m━━━━━━━━━━━━━━━━━━━━\u001b[0m\u001b[37m\u001b[0m \u001b[1m6s\u001b[0m 71ms/step - accuracy: 0.7889 - loss: 0.8017 - val_accuracy: 0.5484 - val_loss: 1.7524\n",
      "Epoch 6/10\n",
      "\u001b[1m86/86\u001b[0m \u001b[32m━━━━━━━━━━━━━━━━━━━━\u001b[0m\u001b[37m\u001b[0m \u001b[1m6s\u001b[0m 70ms/step - accuracy: 0.8420 - loss: 0.5610 - val_accuracy: 0.5587 - val_loss: 1.8250\n",
      "Epoch 7/10\n",
      "\u001b[1m86/86\u001b[0m \u001b[32m━━━━━━━━━━━━━━━━━━━━\u001b[0m\u001b[37m\u001b[0m \u001b[1m6s\u001b[0m 72ms/step - accuracy: 0.9081 - loss: 0.3624 - val_accuracy: 0.5865 - val_loss: 1.7956\n",
      "Epoch 8/10\n",
      "\u001b[1m86/86\u001b[0m \u001b[32m━━━━━━━━━━━━━━━━━━━━\u001b[0m\u001b[37m\u001b[0m \u001b[1m6s\u001b[0m 69ms/step - accuracy: 0.9400 - loss: 0.2168 - val_accuracy: 0.5997 - val_loss: 1.9764\n",
      "Epoch 9/10\n",
      "\u001b[1m86/86\u001b[0m \u001b[32m━━━━━━━━━━━━━━━━━━━━\u001b[0m\u001b[37m\u001b[0m \u001b[1m6s\u001b[0m 71ms/step - accuracy: 0.9661 - loss: 0.1340 - val_accuracy: 0.6041 - val_loss: 2.0211\n",
      "Epoch 10/10\n",
      "\u001b[1m86/86\u001b[0m \u001b[32m━━━━━━━━━━━━━━━━━━━━\u001b[0m\u001b[37m\u001b[0m \u001b[1m6s\u001b[0m 71ms/step - accuracy: 0.9824 - loss: 0.0727 - val_accuracy: 0.6012 - val_loss: 2.1270\n"
     ]
    }
   ],
   "source": [
    "# Define the CNN model\n",
    "cnn_model = Sequential([\n",
    "    Conv2D(32, (3, 3), activation='relu', input_shape=(64, 64, 1)),  # Updated to 64x64\n",
    "    MaxPool2D((2, 2)),\n",
    "    Conv2D(64, (3, 3), activation='relu'),\n",
    "    MaxPool2D((2, 2)),\n",
    "    Flatten(),\n",
    "    Dense(128, activation='relu'),\n",
    "    Dense(62, activation='softmax')  # Updated to 62 classes\n",
    "])\n",
    "\n",
    "# Compile the model\n",
    "cnn_model.compile(optimizer='adam', loss='categorical_crossentropy', metrics=['accuracy'])\n",
    "\n",
    "# Train the model\n",
    "cnn_history = cnn_model.fit(X_train_cnn, y_train_cnn, epochs=10, validation_data=(X_test_cnn, y_test_cnn))\n"
   ]
  },
  {
   "cell_type": "code",
   "execution_count": 12,
   "id": "558ea28b",
   "metadata": {},
   "outputs": [
    {
     "name": "stdout",
     "output_type": "stream",
     "text": [
      "22/22 - 0s - 16ms/step - accuracy: 0.6012 - loss: 2.1270\n",
      "CNN Accuracy: 0.6011730432510376\n"
     ]
    },
    {
     "data": {
      "image/png": "[encoded data removed]",
      "text/plain": [
       "<Figure size 800x800 with 2 Axes>"
      ]
     },
     "metadata": {},
     "output_type": "display_data"
    }
   ],
   "source": [
    "# Evaluate the CNN model\n",
    "cnn_loss, cnn_accuracy = cnn_model.evaluate(X_test_cnn, y_test_cnn, verbose=2)\n",
    "print(f'CNN Accuracy: {cnn_accuracy}')\n",
    "\n",
    "# Plot training and validation accuracy and loss\n",
    "import matplotlib.pyplot as plt\n",
    "\n",
    "def plot_history(history):\n",
    "    acc = history.history['accuracy']\n",
    "    val_acc = history.history['val_accuracy']\n",
    "    loss = history.history['loss']\n",
    "    val_loss = history.history['val_loss']\n",
    "    epochs = range(len(acc))\n",
    "\n",
    "    plt.figure(figsize=(8, 8))\n",
    "    plt.subplot(1, 2, 1)\n",
    "    plt.plot(epochs, acc, 'r', label='Training accuracy')\n",
    "    plt.plot(epochs, val_acc, 'b', label='Validation accuracy')\n",
    "    plt.title('Training and validation accuracy')\n",
    "    plt.legend(loc='lower right')\n",
    "\n",
    "    plt.subplot(1, 2, 2)\n",
    "    plt.plot(epochs, loss, 'r', label='Training loss')\n",
    "    plt.plot(epochs, val_loss, 'b', label='Validation loss')\n",
    "    plt.title('Training and validation loss')\n",
    "    plt.legend(loc='upper right')\n",
    "\n",
    "    plt.show()\n",
    "\n",
    "plot_history(cnn_history)"
   ]
  },
  {
   "cell_type": "markdown",
   "id": "a625f4e3",
   "metadata": {},
   "source": [
    "# Comparing Model"
   ]
  },
  {
   "cell_type": "code",
   "execution_count": 13,
   "id": "3e6f0bd1",
   "metadata": {},
   "outputs": [
    {
     "name": "stdout",
     "output_type": "stream",
     "text": [
      "SVM Accuracy: 0.3973607038123167\n",
      "k-NN Accuracy: 0.3519061583577713\n",
      "CNN Accuracy: 0.6011730432510376\n"
     ]
    }
   ],
   "source": [
    "print(f'SVM Accuracy: {svm_accuracy}')\n",
    "print(f'k-NN Accuracy: {knn_accuracy}')\n",
    "print(f'CNN Accuracy: {cnn_accuracy}')\n"
   ]
  },
  {
   "cell_type": "code",
   "execution_count": null,
   "id": "7d03e18f",
   "metadata": {},
   "outputs": [],
   "source": []
  },
  {
   "cell_type": "code",
   "execution_count": null,
   "id": "5d08724e",
   "metadata": {},
   "outputs": [],
   "source": []
  },
  {
   "cell_type": "code",
   "execution_count": null,
   "id": "7c7c32e9",
   "metadata": {},
   "outputs": [],
   "source": []
  },
  {
   "cell_type": "code",
   "execution_count": null,
   "id": "cb05933f",
   "metadata": {},
   "outputs": [],
   "source": []
  },
  {
   "cell_type": "code",
   "execution_count": null,
   "id": "6c37a593",
   "metadata": {},
   "outputs": [],
   "source": []
  },
  {
   "cell_type": "code",
   "execution_count": null,
   "id": "d58b0781",
   "metadata": {},
   "outputs": [],
   "source": []
  },
  {
   "cell_type": "code",
   "execution_count": null,
   "id": "e87c4b89",
   "metadata": {},
   "outputs": [],
   "source": []
  },
  {
   "cell_type": "code",
   "execution_count": null,
   "id": "0699beba",
   "metadata": {},
   "outputs": [],
   "source": []
  },
  {
   "cell_type": "code",
   "execution_count": null,
   "id": "623478e5",
   "metadata": {},
   "outputs": [],
   "source": []
  },
  {
   "cell_type": "code",
   "execution_count": null,
   "id": "058c77ef",
   "metadata": {},
   "outputs": [],
   "source": []
  }
 ],
 "metadata": {
  "kernelspec": {
   "display_name": "Python 3 (ipykernel)",
   "language": "python",
   "name": "python3"
  },
  "language_info": {
   "codemirror_mode": {
    "name": "ipython",
    "version": 3
   },
   "file_extension": ".py",
   "mimetype": "text/x-python",
   "name": "python",
   "nbconvert_exporter": "python",
   "pygments_lexer": "ipython3",
   "version": "3.11.9"
  }
 },
 "nbformat": 4,
 "nbformat_minor": 5
}
